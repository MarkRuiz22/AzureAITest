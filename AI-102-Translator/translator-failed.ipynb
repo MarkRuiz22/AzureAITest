{
 "cells": [
  {
   "cell_type": "code",
   "execution_count": null,
   "id": "5549beb8-5d5e-4b32-8b87-f879f6277fc4",
   "metadata": {},
   "outputs": [],
   "source": [
    "#https://github.com/Azure/azure-sdk-for-python/blob/main/sdk/translation/azure-ai-translation-text/README.md\n",
    "\n",
    "\n",
    "#This attempt failed. With translator, it is recommended to use the WebAPI code example. \n"
   ]
  },
  {
   "cell_type": "code",
   "execution_count": null,
   "id": "899c1b27-4972-4c1e-9899-5fe81daa5e21",
   "metadata": {},
   "outputs": [],
   "source": [
    "%pip install azure-ai-translation-text"
   ]
  },
  {
   "cell_type": "code",
   "execution_count": null,
   "id": "6b18678a-89a2-4c5a-a695-9f974ee0c9cd",
   "metadata": {},
   "outputs": [],
   "source": [
    "from azure.core.credentials import AzureKeyCredential\n",
    "from azure.ai.translation.text import TextTranslationClient"
   ]
  },
  {
   "cell_type": "code",
   "execution_count": null,
   "id": "565e235c-2b38-4508-90ef-5991ff693c12",
   "metadata": {},
   "outputs": [],
   "source": [
    "apikey = \"REPLACE_WITH_KEY\"\n",
    "region = \"westus\""
   ]
  },
  {
   "cell_type": "code",
   "execution_count": null,
   "id": "d9a3f638-5a5f-4a83-abb5-b535814dfa89",
   "metadata": {},
   "outputs": [],
   "source": [
    "credential = AzureKeyCredential(apikey)\n",
    "text_translator = TextTranslationClient(credential=credential, region=region)"
   ]
  },
  {
   "cell_type": "code",
   "execution_count": null,
   "id": "02ef4da1-f368-4890-9db5-9a44631bdfd3",
   "metadata": {},
   "outputs": [],
   "source": [
    "try:\n",
    "    language = [\"jp\", \"es\", \"de\"]\n",
    "    input_text = [\"This is a test\"]\n",
    "\n",
    "    response = text_translator.translate(body=input_text, to=language)\n",
    "    translation = response[0] if response else None\n",
    "\n",
    "    if translation:\n",
    "        detected_language = translation.detected_language\n",
    "        if detected_language:\n",
    "            print(\n",
    "                f\"Detected languages of the input text: {detected_language.language} with score: {detected_language.score}.\"\n",
    "            )\n",
    "        for translated_text in translation.translations:\n",
    "            print(f\"Text was translated to: '{translated_text.to}' and the result is: '{translated_text.text}'.\")\n",
    "\n",
    "except HttpResponseError as exception:\n",
    "    if exception.error is not None:\n",
    "        print(f\"Error Code: {exception.error.code}\")\n",
    "        print(f\"Message: {exception.error.message}\")"
   ]
  },
  {
   "cell_type": "code",
   "execution_count": null,
   "id": "96c89f45-c08d-448e-b35c-6864d54f81f2",
   "metadata": {},
   "outputs": [],
   "source": []
  }
 ],
 "metadata": {
  "kernelspec": {
   "display_name": "Python 3.10 - SDK v2",
   "language": "python",
   "name": "python310-sdkv2"
  },
  "language_info": {
   "codemirror_mode": {
    "name": "ipython",
    "version": 3
   },
   "file_extension": ".py",
   "mimetype": "text/x-python",
   "name": "python",
   "nbconvert_exporter": "python",
   "pygments_lexer": "ipython3",
   "version": "3.10.18"
  }
 },
 "nbformat": 4,
 "nbformat_minor": 5
}
