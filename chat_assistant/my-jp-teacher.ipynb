{
 "cells": [
  {
   "cell_type": "code",
   "execution_count": null,
   "id": "68630b3b-6727-4f6e-9506-21a37cc77c21",
   "metadata": {},
   "outputs": [],
   "source": [
    "%pip install openai"
   ]
  },
  {
   "cell_type": "code",
   "execution_count": null,
   "id": "592430de-045f-4e49-9a0b-01891d7d8583",
   "metadata": {},
   "outputs": [],
   "source": [
    "import os\n",
    "import base64\n",
    "from openai import AzureOpenAI"
   ]
  },
  {
   "cell_type": "code",
   "execution_count": null,
   "id": "4a4a295e-f836-4885-84e5-56599366bf68",
   "metadata": {},
   "outputs": [],
   "source": [
    "endpoint = (\"https://azureaiservices22.openai.azure.com\")\n",
    "deployment = (\"gpt-35-turbo\") \n",
    "api_key = \"REPLACE_KEY\""
   ]
  },
  {
   "cell_type": "code",
   "execution_count": null,
   "id": "8ddfe26a-7c2d-47ca-8932-70729fffbbdd",
   "metadata": {},
   "outputs": [],
   "source": [
    "client = AzureOpenAI(\n",
    "    azure_endpoint=endpoint,\n",
    "    api_key=api_key,\n",
    "    api_version=\"2025-01-01-preview\",\n",
    ")\n"
   ]
  },
  {
   "cell_type": "code",
   "execution_count": null,
   "id": "56e82bff-9ba7-4bba-a23c-55acd1d15784",
   "metadata": {},
   "outputs": [],
   "source": [
    "current_dir = os.getcwd()\n",
    "file_path = os.path.abspath(os.path.join(current_dir, \"prompt_document.txt\"))\n",
    "with open(file_path, 'r', encoding='utf-8') as file:\n",
    "    prompt_document = file.read()"
   ]
  },
  {
   "cell_type": "code",
   "execution_count": null,
   "id": "dc07633a-8aca-407f-9266-251e382fa05b",
   "metadata": {},
   "outputs": [],
   "source": [
    "# Initialize Azure OpenAI client with Entra ID authentication\n",
    "\n",
    "\n",
    "\n",
    "chat_prompt = [\n",
    "    {\n",
    "        \"role\": \"user\",\n",
    "        \"content\": \"Hello\"\n",
    "    },\n",
    "    {\n",
    "        \"role\": \"assistant\",\n",
    "        \"content\": \"Thanks for stopping by to learn Spanish.\\n\\n- hola - Spanish\\n- ¿cómo estás? - language\"\n",
    "    },\n",
    "    {\n",
    "        \"role\": \"user\",\n",
    "        \"content\": \"Hola\"\n",
    "    },\n",
    "    {\n",
    "        \"role\": \"assistant\",\n",
    "        \"content\": \"Great job practicing your Spanish!\\n\\n- hello - English\\n- ¿cómo estás? - Spanish\"\n",
    "    }\n",
    "]\n",
    "\n",
    "# Include speech result if speech is enabled\n",
    "messages = chat_prompt\n",
    "\n",
    "completion = client.chat.completions.create(\n",
    "    model=deployment,\n",
    "    messages= [\n",
    "        {\"role\": \"system\", \"content\": prompt_document},\n",
    "        {\"role\": \"user\", \"content\": \"Hello\"},\n",
    "        {\"role\": \"assistant\", \"content\": \"Thanks for stopping by to learn Spanish.\\n\\n- hola - Spanish\\n- ¿cómo estás? - language\",}\n",
    "    ],\n",
    "    max_tokens=1600,\n",
    "    temperature=0.7,\n",
    "    top_p=0.95,\n",
    "    frequency_penalty=0,\n",
    "    presence_penalty=0,\n",
    "    stop=None,\n",
    "    stream=False\n",
    ")\n",
    "print(completion.to_json())\n"
   ]
  },
  {
   "cell_type": "code",
   "execution_count": null,
   "id": "e58c8456-efc9-42b3-a980-a875a90725ff",
   "metadata": {},
   "outputs": [],
   "source": []
  }
 ],
 "metadata": {
  "kernelspec": {
   "display_name": "Python 3.10 - SDK v2",
   "language": "python",
   "name": "python310-sdkv2"
  },
  "language_info": {
   "codemirror_mode": {
    "name": "ipython",
    "version": 3
   },
   "file_extension": ".py",
   "mimetype": "text/x-python",
   "name": "python",
   "nbconvert_exporter": "python",
   "pygments_lexer": "ipython3",
   "version": "3.10.18"
  }
 },
 "nbformat": 4,
 "nbformat_minor": 5
}
